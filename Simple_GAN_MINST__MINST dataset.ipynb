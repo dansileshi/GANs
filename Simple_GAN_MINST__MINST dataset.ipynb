{
 "cells": [
  {
   "cell_type": "markdown",
   "metadata": {},
   "source": [
    "### Goal\n",
    "This notebook describes how to create a simple generative adversarial network (GAN). The aim here is to build and train a GAN that can generate hand-written images of digits (0-9). The code is implmented using keras/Tensorflow 2."
   ]
  },
  {
   "cell_type": "code",
   "execution_count": 1,
   "metadata": {},
   "outputs": [],
   "source": [
    "from numpy import expand_dims\n",
    "from numpy import zeros\n",
    "from numpy import ones\n",
    "from numpy import vstack\n",
    "from tqdm import tqdm\n",
    "from numpy.random import randn\n",
    "from numpy.random import randint\n",
    "from keras.datasets.mnist import load_data\n",
    "from keras.optimizers import Adam\n",
    "from keras.models import Sequential\n",
    "from keras.layers import Dense\n",
    "from keras.layers import Reshape\n",
    "from keras.layers import Flatten\n",
    "from keras.layers import Conv2D\n",
    "from keras.layers import Conv2DTranspose\n",
    "from keras.layers import LeakyReLU\n",
    "from keras.layers import Dropout\n",
    "from matplotlib import pyplot\n",
    "\n",
    "import tensorflow as tf\n",
    "from tensorflow.keras.models import Model\n",
    "from tensorflow.keras.layers import Layer, BatchNormalization, Conv2D, Dense, Flatten, Add,GlobalAveragePooling2D,Conv2DTranspose\n",
    "from tensorflow.keras.models import  Sequential, Model, load_model\n",
    "\n",
    "import numpy as np\n",
    "from tensorflow.keras.datasets import fashion_mnist\n",
    "from tensorflow.keras.utils import to_categorical\n",
    "import matplotlib.pyplot as plt\n",
    "from keras import callbacks\n"
   ]
  },
  {
   "cell_type": "code",
   "execution_count": 2,
   "metadata": {},
   "outputs": [],
   "source": [
    "import tensorflow as tf\n",
    "\n",
    "physical_devices = tf.config.list_physical_devices('GPU') \n",
    "tf.config.experimental.set_memory_growth(physical_devices[0], True)"
   ]
  },
  {
   "cell_type": "code",
   "execution_count": 3,
   "metadata": {},
   "outputs": [],
   "source": [
    "INPUT_SHAPE = (127, 127)\n",
    "n_nodes = 128 * 7 * 7 \n",
    "NOISE_DIM =100"
   ]
  },
  {
   "cell_type": "code",
   "execution_count": 4,
   "metadata": {},
   "outputs": [],
   "source": [
    "####Create a custom model that integrates the residual blocks ####\n",
    "class GeneratorModel(tf.keras.Model):\n",
    "    \n",
    "    def __init__(self, fillters=[ 128, 128,1], kernel_sizes=[4, 4,7], strides=[2, 2,2], input_shape=NOISE_DIM):\n",
    "                \n",
    "        super(GeneratorModel, self).__init__()\n",
    "        self.dn1 = Dense(n_nodes, input_dim=NOISE_DIM, activation='selu')\n",
    "        self.rs1 = Reshape((7, 7, 128))\n",
    "        self.bn1 = BatchNormalization()\n",
    "        self.conv1 = tf.keras.layers.Conv2DTranspose(fillters[0], (kernel_sizes[0], kernel_sizes[0]), \n",
    "                                               strides=(strides[0], strides[0]),padding=\"same\", activation='selu')\n",
    "        self.bn2 = BatchNormalization()\n",
    "        self.conv2 = tf.keras.layers.Conv2DTranspose(fillters[1], (kernel_sizes[1], kernel_sizes[1]), \n",
    "                                               strides=(strides[1], strides[1]), padding=\"same\",activation='selu')\n",
    "        self.bn3 = BatchNormalization()\n",
    "        self.conv3 = tf.keras.layers.Conv2D(fillters[2], (kernel_sizes[2], kernel_sizes[2]), \n",
    "                                               padding=\"same\", activation='sigmoid')\n",
    "        \n",
    "        \n",
    "    def call(self, inputs):\n",
    "        x = self.dn1(inputs)\n",
    "        x = self.rs1(x)\n",
    "        x = self.bn1(x)\n",
    "        x = self.conv1(x)\n",
    "        x = self.bn2(x)\n",
    "        x = self.conv2(x)\n",
    "        x = self.bn3(x)\n",
    "        x = self.conv3(x)        \n",
    "        return x"
   ]
  },
  {
   "cell_type": "code",
   "execution_count": 5,
   "metadata": {},
   "outputs": [],
   "source": [
    "####Create a custom model that integrates the residual blocks ####\n",
    "class DiscriminatorModel(tf.keras.Model):\n",
    "    \n",
    "    def __init__(self, fillters=[ 64, 64], kernel_sizes=[3, 3], strides=[2, 2], input_shape=INPUT_SHAPE):\n",
    "                \n",
    "        super(DiscriminatorModel, self).__init__()\n",
    "        self.conv1 = tf.keras.layers.Conv2D(fillters[0], (kernel_sizes[0], kernel_sizes[0]), \n",
    "                                               strides=(strides[0], strides[0]), padding=\"same\",activation='selu')\n",
    "        self.do1 = Dropout(0.4)\n",
    "        self.bn1 = BatchNormalization()\n",
    "        self.conv2 = tf.keras.layers.Conv2D(fillters[1], (kernel_sizes[1], kernel_sizes[1]), \n",
    "                                               strides=(strides[1], strides[1]),padding=\"same\", activation='selu')\n",
    "        self.do2 = Dropout(0.4)\n",
    "        self.bn2 = BatchNormalization()\n",
    "        \n",
    "        self.flatten = Flatten()\n",
    "        self.fc = Dense(1, activation='sigmoid')\n",
    "        \n",
    "    def call(self, inputs, training=False):       \n",
    "        \n",
    "        x = self.conv1(inputs)\n",
    "        x = self.do1(x)\n",
    "        x = self.conv2(x)\n",
    "        x = self.do2(x)\n",
    "        x = self.flatten(x)        \n",
    "        x = self.fc(x)        \n",
    "        return x\n",
    "    \n",
    "test_model = DiscriminatorModel()"
   ]
  },
  {
   "cell_type": "code",
   "execution_count": 6,
   "metadata": {},
   "outputs": [],
   "source": [
    "# define the combined generator and discriminator model, for updating the generator\n",
    "def DefineGan(g_model, d_model):\n",
    "    # make weights in the discriminator not trainable\n",
    "    for layer in d_model.layers:\n",
    "        if not isinstance(layer, BatchNormalization):\n",
    "            layer.trainable = False\n",
    "            \n",
    "    model = Sequential()\n",
    "\n",
    "    model.add(g_model)\n",
    "    model.add(d_model)\n",
    "    return model\n",
    "\n",
    "# generate points in latent space as input for the generator\n",
    "def Generate_Noise(latent_dim, n_samples):\n",
    "    x_input = randn(latent_dim * n_samples)\n",
    "    x_input = x_input.reshape(n_samples, latent_dim)\n",
    "    return x_input"
   ]
  },
  {
   "cell_type": "code",
   "execution_count": 7,
   "metadata": {},
   "outputs": [],
   "source": [
    "# select real samples\n",
    "def Sample_real_data(dataset, n_samples):\n",
    "    ix = randint(0, dataset.shape[0], n_samples)\n",
    "    X = dataset[ix]\n",
    "    y = ones((n_samples, 1))\n",
    "    return X, y\n",
    "\n",
    "# use the generator to generate n fake examples, with class labels\n",
    "def Sample_fake_data(g_model, latent_dim, n_samples):\n",
    "    x_input = Generate_Noise(latent_dim, n_samples)\n",
    "    X = g_model.predict(x_input)\n",
    "    #print(X.shape)\n",
    "    y = zeros((n_samples, 1))\n",
    "    return X, y\n",
    "\n",
    "# create and save a plot of generated images (reversed grayscale)\n",
    "def save_plot(examples, epoch, n=10):\n",
    "    for i in range(n * n):\n",
    "        pyplot.subplot(n, n, 1 + i)\n",
    "        pyplot.axis('off')\n",
    "        pyplot.imshow(examples[i, :, :, 0], cmap='gray_r')\n",
    "    filename = 'results/Generated_plot_2_e%03d.png' % (epoch+1)\n",
    "    pyplot.savefig(filename)\n",
    "    pyplot.close()\n",
    "\n",
    "# evaluate the discriminator, plot generated images, save generator model\n",
    "def PrintProgress(epoch, g_model, d_model, dataset, latent_dim, n_samples=100):\n",
    "    X_real, y_real = Sample_real_data(dataset, n_samples)\n",
    "    _, acc_real = d_model.evaluate(X_real, y_real, verbose=0)\n",
    "    x_fake, y_fake = Sample_fake_data(g_model, latent_dim, n_samples)\n",
    "    _, acc_fake = d_model.evaluate(x_fake, y_fake, verbose=0)\n",
    "    print('>Accuracy real: %.0f%%, fake: %.0f%%' % (acc_real*100, acc_fake*100))\n",
    "    save_plot(x_fake, epoch)\n",
    "    filename = 'results/generator_model_%03d.h5' % (epoch + 1)\n",
    "    g_model.save_weights(filename)\n",
    "\n",
    "# train the generator and discriminator\n",
    "def train(g_model, d_model, gan_model, dataset, latent_dim, n_epochs=100, n_batch=256):\n",
    "    bat_per_epo = int(dataset.shape[0] / n_batch)\n",
    "    d_hist,  g_hist, da_hist, ga_hist = list(), list(), list(), list()\n",
    "    for i in tqdm(range(n_epochs*bat_per_epo)):\n",
    "        X_real, y_real = Sample_real_data(dataset, int(n_batch / 2))\n",
    "        X_fake, y_fake = Sample_fake_data(g_model, latent_dim, int(n_batch / 2))\n",
    "        #print(X_fake.shape, X_real.shape)\n",
    "        X, y = vstack((X_real, X_fake)), vstack((y_real, y_fake))\n",
    "\n",
    "        #d_loss, d_acc = d_model.train_on_batch(X, y)\n",
    "        d_loss1, d_acc1 = d_model.train_on_batch(X_real, y_real)\n",
    "        d_loss2, d_acc2 = d_model.train_on_batch(X_fake, y_fake)\n",
    "\n",
    "        # train the genrator by genrating using fake samples but real like lables \n",
    "        X_gan = Generate_Noise(latent_dim, n_batch)\n",
    "        y_gan = ones((n_batch, 1))\n",
    "        g_loss,_ = gan_model.train_on_batch(X_gan, y_gan)\n",
    "\n",
    "            \n",
    "            \n",
    "        if (i+1) % bat_per_epo*5 == 0:\n",
    "            print('>%d,  dis_loss=%.3f, gen_loss=%.3f' % (i+1, (d_loss1+d_loss2), g_loss))\n",
    "            PrintProgress(i, g_model, d_model, dataset, latent_dim)\n"
   ]
  },
  {
   "cell_type": "code",
   "execution_count": 8,
   "metadata": {},
   "outputs": [],
   "source": [
    "# load and prepare mnist training images\n",
    "def load_real_samples():\n",
    "    (trainX, _), (_, _) = load_data()\n",
    "    X = expand_dims(trainX, axis=-1)\n",
    "    X = X.astype('float32')\n",
    "    X = X / 255.0\n",
    "    return X\n",
    "\n",
    "\n",
    "def plot_history(d1_hist, g_hist, a1_hist, a2_hist):\n",
    "    # plot loss\n",
    "    pyplot.subplot(2, 1, 1)\n",
    "    pyplot.plot(d1_hist, label='dis-loss')\n",
    "    pyplot.plot(g_hist, label='gen-loss')\n",
    "    pyplot.legend()\n",
    "    \n",
    "    # plot discriminator accuracy\n",
    "    pyplot.subplot(2, 1, 2)\n",
    "    pyplot.plot(a1_hist, label='acc-real')\n",
    "    pyplot.plot(a2_hist, label='acc-fake')\n",
    "    pyplot.legend()\n",
    "    \n",
    "    # save plot to file\n",
    "    pyplot.savefig('results/plot_line_plot_loss.png')\n",
    "    pyplot.close()"
   ]
  },
  {
   "cell_type": "code",
   "execution_count": 9,
   "metadata": {
    "scrolled": true
   },
   "outputs": [
    {
     "name": "stderr",
     "output_type": "stream",
     "text": [
      "  1%|▊                                                                             | 233/23400 [00:31<45:20,  8.52it/s]"
     ]
    },
    {
     "name": "stdout",
     "output_type": "stream",
     "text": [
      ">234,  dis_loss=1.455, gen_loss=0.442\n",
      ">Accuracy real: 92%, fake: 3%\n"
     ]
    },
    {
     "name": "stderr",
     "output_type": "stream",
     "text": [
      "  2%|█▌                                                                            | 467/23400 [01:05<55:18,  6.91it/s]"
     ]
    },
    {
     "name": "stdout",
     "output_type": "stream",
     "text": [
      ">468,  dis_loss=1.426, gen_loss=0.698\n",
      ">Accuracy real: 45%, fake: 46%\n"
     ]
    },
    {
     "name": "stderr",
     "output_type": "stream",
     "text": [
      "  3%|██▎                                                                           | 701/23400 [01:39<52:50,  7.16it/s]"
     ]
    },
    {
     "name": "stdout",
     "output_type": "stream",
     "text": [
      ">702,  dis_loss=1.395, gen_loss=0.736\n",
      ">Accuracy real: 14%, fake: 86%\n"
     ]
    },
    {
     "name": "stderr",
     "output_type": "stream",
     "text": [
      "  4%|███                                                                           | 935/23400 [02:12<51:40,  7.25it/s]"
     ]
    },
    {
     "name": "stdout",
     "output_type": "stream",
     "text": [
      ">936,  dis_loss=1.398, gen_loss=0.726\n",
      ">Accuracy real: 20%, fake: 72%\n"
     ]
    },
    {
     "name": "stderr",
     "output_type": "stream",
     "text": [
      "  5%|███▊                                                                         | 1169/23400 [02:46<48:48,  7.59it/s]"
     ]
    },
    {
     "name": "stdout",
     "output_type": "stream",
     "text": [
      ">1170,  dis_loss=1.400, gen_loss=0.714\n",
      ">Accuracy real: 27%, fake: 80%\n"
     ]
    },
    {
     "name": "stderr",
     "output_type": "stream",
     "text": [
      "  6%|████▌                                                                        | 1403/23400 [03:18<45:29,  8.06it/s]"
     ]
    },
    {
     "name": "stdout",
     "output_type": "stream",
     "text": [
      ">1404,  dis_loss=1.395, gen_loss=0.684\n",
      ">Accuracy real: 82%, fake: 24%\n"
     ]
    },
    {
     "name": "stderr",
     "output_type": "stream",
     "text": [
      "  7%|█████▍                                                                       | 1637/23400 [03:49<44:43,  8.11it/s]"
     ]
    },
    {
     "name": "stdout",
     "output_type": "stream",
     "text": [
      ">1638,  dis_loss=1.401, gen_loss=0.723\n",
      ">Accuracy real: 22%, fake: 85%\n"
     ]
    },
    {
     "name": "stderr",
     "output_type": "stream",
     "text": [
      "  8%|██████▏                                                                      | 1871/23400 [04:20<43:58,  8.16it/s]"
     ]
    },
    {
     "name": "stdout",
     "output_type": "stream",
     "text": [
      ">1872,  dis_loss=1.391, gen_loss=0.722\n",
      ">Accuracy real: 45%, fake: 80%\n"
     ]
    },
    {
     "name": "stderr",
     "output_type": "stream",
     "text": [
      "  9%|██████▉                                                                      | 2105/23400 [04:50<44:47,  7.92it/s]"
     ]
    },
    {
     "name": "stdout",
     "output_type": "stream",
     "text": [
      ">2106,  dis_loss=1.415, gen_loss=0.681\n",
      ">Accuracy real: 63%, fake: 35%\n"
     ]
    },
    {
     "name": "stderr",
     "output_type": "stream",
     "text": [
      " 10%|███████▋                                                                     | 2339/23400 [05:21<46:55,  7.48it/s]"
     ]
    },
    {
     "name": "stdout",
     "output_type": "stream",
     "text": [
      ">2340,  dis_loss=1.400, gen_loss=0.688\n",
      ">Accuracy real: 77%, fake: 30%\n"
     ]
    },
    {
     "name": "stderr",
     "output_type": "stream",
     "text": [
      " 11%|████████▍                                                                    | 2573/23400 [05:52<40:11,  8.64it/s]"
     ]
    },
    {
     "name": "stdout",
     "output_type": "stream",
     "text": [
      ">2574,  dis_loss=1.383, gen_loss=0.687\n",
      ">Accuracy real: 65%, fake: 32%\n"
     ]
    },
    {
     "name": "stderr",
     "output_type": "stream",
     "text": [
      " 12%|█████████▏                                                                   | 2807/23400 [06:22<40:38,  8.45it/s]"
     ]
    },
    {
     "name": "stdout",
     "output_type": "stream",
     "text": [
      ">2808,  dis_loss=1.402, gen_loss=0.700\n",
      ">Accuracy real: 31%, fake: 55%\n"
     ]
    },
    {
     "name": "stderr",
     "output_type": "stream",
     "text": [
      " 13%|██████████                                                                   | 3041/23400 [06:53<44:26,  7.64it/s]"
     ]
    },
    {
     "name": "stdout",
     "output_type": "stream",
     "text": [
      ">3042,  dis_loss=1.396, gen_loss=0.692\n",
      ">Accuracy real: 46%, fake: 57%\n"
     ]
    },
    {
     "name": "stderr",
     "output_type": "stream",
     "text": [
      " 14%|██████████▊                                                                  | 3275/23400 [07:24<38:57,  8.61it/s]"
     ]
    },
    {
     "name": "stdout",
     "output_type": "stream",
     "text": [
      ">3276,  dis_loss=1.388, gen_loss=0.698\n",
      ">Accuracy real: 31%, fake: 52%\n"
     ]
    },
    {
     "name": "stderr",
     "output_type": "stream",
     "text": [
      " 15%|███████████▌                                                                 | 3509/23400 [07:54<40:28,  8.19it/s]"
     ]
    },
    {
     "name": "stdout",
     "output_type": "stream",
     "text": [
      ">3510,  dis_loss=1.400, gen_loss=0.682\n",
      ">Accuracy real: 87%, fake: 22%\n"
     ]
    },
    {
     "name": "stderr",
     "output_type": "stream",
     "text": [
      " 16%|████████████▎                                                                | 3743/23400 [08:26<41:28,  7.90it/s]"
     ]
    },
    {
     "name": "stdout",
     "output_type": "stream",
     "text": [
      ">3744,  dis_loss=1.379, gen_loss=0.696\n",
      ">Accuracy real: 70%, fake: 55%\n"
     ]
    },
    {
     "name": "stderr",
     "output_type": "stream",
     "text": [
      " 17%|█████████████                                                                | 3977/23400 [08:57<42:24,  7.63it/s]"
     ]
    },
    {
     "name": "stdout",
     "output_type": "stream",
     "text": [
      ">3978,  dis_loss=1.401, gen_loss=0.715\n",
      ">Accuracy real: 44%, fake: 65%\n"
     ]
    },
    {
     "name": "stderr",
     "output_type": "stream",
     "text": [
      " 18%|█████████████▊                                                               | 4211/23400 [09:29<40:58,  7.81it/s]"
     ]
    },
    {
     "name": "stdout",
     "output_type": "stream",
     "text": [
      ">4212,  dis_loss=1.407, gen_loss=0.707\n",
      ">Accuracy real: 41%, fake: 51%\n"
     ]
    },
    {
     "name": "stderr",
     "output_type": "stream",
     "text": [
      " 19%|██████████████▋                                                              | 4445/23400 [10:01<41:42,  7.57it/s]"
     ]
    },
    {
     "name": "stdout",
     "output_type": "stream",
     "text": [
      ">4446,  dis_loss=1.380, gen_loss=0.712\n",
      ">Accuracy real: 63%, fake: 74%\n"
     ]
    },
    {
     "name": "stderr",
     "output_type": "stream",
     "text": [
      " 20%|███████████████▍                                                             | 4679/23400 [10:33<38:43,  8.06it/s]"
     ]
    },
    {
     "name": "stdout",
     "output_type": "stream",
     "text": [
      ">4680,  dis_loss=1.389, gen_loss=0.715\n",
      ">Accuracy real: 57%, fake: 69%\n"
     ]
    },
    {
     "name": "stderr",
     "output_type": "stream",
     "text": [
      " 21%|████████████████▏                                                            | 4913/23400 [11:04<40:19,  7.64it/s]"
     ]
    },
    {
     "name": "stdout",
     "output_type": "stream",
     "text": [
      ">4914,  dis_loss=1.377, gen_loss=0.742\n",
      ">Accuracy real: 18%, fake: 87%\n"
     ]
    },
    {
     "name": "stderr",
     "output_type": "stream",
     "text": [
      " 22%|████████████████▉                                                            | 5147/23400 [11:35<37:14,  8.17it/s]"
     ]
    },
    {
     "name": "stdout",
     "output_type": "stream",
     "text": [
      ">5148,  dis_loss=1.431, gen_loss=0.676\n",
      ">Accuracy real: 62%, fake: 19%\n"
     ]
    },
    {
     "name": "stderr",
     "output_type": "stream",
     "text": [
      " 23%|█████████████████▋                                                           | 5381/23400 [12:05<36:09,  8.31it/s]"
     ]
    },
    {
     "name": "stdout",
     "output_type": "stream",
     "text": [
      ">5382,  dis_loss=1.391, gen_loss=0.702\n",
      ">Accuracy real: 72%, fake: 36%\n"
     ]
    },
    {
     "name": "stderr",
     "output_type": "stream",
     "text": [
      " 24%|██████████████████▍                                                          | 5615/23400 [12:37<36:24,  8.14it/s]"
     ]
    },
    {
     "name": "stdout",
     "output_type": "stream",
     "text": [
      ">5616,  dis_loss=1.430, gen_loss=0.638\n",
      ">Accuracy real: 95%, fake: 3%\n"
     ]
    },
    {
     "name": "stderr",
     "output_type": "stream",
     "text": [
      " 25%|███████████████████▏                                                         | 5849/23400 [13:07<35:28,  8.24it/s]"
     ]
    },
    {
     "name": "stdout",
     "output_type": "stream",
     "text": [
      ">5850,  dis_loss=1.419, gen_loss=0.693\n",
      ">Accuracy real: 58%, fake: 32%\n"
     ]
    },
    {
     "name": "stderr",
     "output_type": "stream",
     "text": [
      " 26%|████████████████████                                                         | 6083/23400 [13:38<36:33,  7.89it/s]"
     ]
    },
    {
     "name": "stdout",
     "output_type": "stream",
     "text": [
      ">6084,  dis_loss=1.427, gen_loss=0.675\n",
      ">Accuracy real: 60%, fake: 24%\n"
     ]
    },
    {
     "name": "stderr",
     "output_type": "stream",
     "text": [
      " 27%|████████████████████▊                                                        | 6317/23400 [14:08<34:35,  8.23it/s]"
     ]
    },
    {
     "name": "stdout",
     "output_type": "stream",
     "text": [
      ">6318,  dis_loss=1.428, gen_loss=0.692\n",
      ">Accuracy real: 56%, fake: 43%\n"
     ]
    },
    {
     "name": "stderr",
     "output_type": "stream",
     "text": [
      " 28%|█████████████████████▌                                                       | 6551/23400 [14:39<36:46,  7.63it/s]"
     ]
    },
    {
     "name": "stdout",
     "output_type": "stream",
     "text": [
      ">6552,  dis_loss=1.424, gen_loss=0.689\n",
      ">Accuracy real: 44%, fake: 33%\n"
     ]
    },
    {
     "name": "stderr",
     "output_type": "stream",
     "text": [
      " 29%|██████████████████████▎                                                      | 6785/23400 [15:11<36:03,  7.68it/s]"
     ]
    },
    {
     "name": "stdout",
     "output_type": "stream",
     "text": [
      ">6786,  dis_loss=1.363, gen_loss=0.735\n",
      ">Accuracy real: 75%, fake: 71%\n"
     ]
    },
    {
     "name": "stderr",
     "output_type": "stream",
     "text": [
      " 30%|███████████████████████                                                      | 7019/23400 [15:44<35:20,  7.72it/s]"
     ]
    },
    {
     "name": "stdout",
     "output_type": "stream",
     "text": [
      ">7020,  dis_loss=1.381, gen_loss=0.704\n",
      ">Accuracy real: 83%, fake: 46%\n"
     ]
    },
    {
     "name": "stderr",
     "output_type": "stream",
     "text": [
      " 31%|███████████████████████▊                                                     | 7253/23400 [16:16<33:46,  7.97it/s]"
     ]
    },
    {
     "name": "stdout",
     "output_type": "stream",
     "text": [
      ">7254,  dis_loss=1.362, gen_loss=0.733\n",
      ">Accuracy real: 59%, fake: 70%\n"
     ]
    },
    {
     "name": "stderr",
     "output_type": "stream",
     "text": [
      " 32%|████████████████████████▋                                                    | 7487/23400 [16:47<33:57,  7.81it/s]"
     ]
    },
    {
     "name": "stdout",
     "output_type": "stream",
     "text": [
      ">7488,  dis_loss=1.378, gen_loss=0.731\n",
      ">Accuracy real: 54%, fake: 74%\n"
     ]
    },
    {
     "name": "stderr",
     "output_type": "stream",
     "text": [
      " 33%|█████████████████████████▍                                                   | 7721/23400 [17:19<35:05,  7.45it/s]"
     ]
    },
    {
     "name": "stdout",
     "output_type": "stream",
     "text": [
      ">7722,  dis_loss=1.373, gen_loss=0.781\n",
      ">Accuracy real: 24%, fake: 95%\n"
     ]
    },
    {
     "name": "stderr",
     "output_type": "stream",
     "text": [
      " 34%|██████████████████████████▏                                                  | 7955/23400 [17:50<32:57,  7.81it/s]"
     ]
    },
    {
     "name": "stdout",
     "output_type": "stream",
     "text": [
      ">7956,  dis_loss=1.424, gen_loss=0.657\n",
      ">Accuracy real: 71%, fake: 10%\n"
     ]
    },
    {
     "name": "stderr",
     "output_type": "stream",
     "text": [
      " 35%|██████████████████████████▉                                                  | 8189/23400 [18:21<30:49,  8.23it/s]"
     ]
    },
    {
     "name": "stdout",
     "output_type": "stream",
     "text": [
      ">8190,  dis_loss=1.438, gen_loss=0.694\n",
      ">Accuracy real: 67%, fake: 27%\n"
     ]
    },
    {
     "name": "stderr",
     "output_type": "stream",
     "text": [
      " 36%|███████████████████████████▋                                                 | 8423/23400 [18:53<32:14,  7.74it/s]"
     ]
    },
    {
     "name": "stdout",
     "output_type": "stream",
     "text": [
      ">8424,  dis_loss=1.351, gen_loss=0.759\n",
      ">Accuracy real: 51%, fake: 85%\n"
     ]
    },
    {
     "name": "stderr",
     "output_type": "stream",
     "text": [
      " 37%|████████████████████████████▍                                                | 8657/23400 [19:27<34:31,  7.12it/s]"
     ]
    },
    {
     "name": "stdout",
     "output_type": "stream",
     "text": [
      ">8658,  dis_loss=1.418, gen_loss=0.747\n",
      ">Accuracy real: 23%, fake: 75%\n"
     ]
    },
    {
     "name": "stderr",
     "output_type": "stream",
     "text": [
      " 38%|█████████████████████████████▎                                               | 8891/23400 [19:58<32:19,  7.48it/s]"
     ]
    },
    {
     "name": "stdout",
     "output_type": "stream",
     "text": [
      ">8892,  dis_loss=1.384, gen_loss=0.721\n",
      ">Accuracy real: 51%, fake: 64%\n"
     ]
    },
    {
     "name": "stderr",
     "output_type": "stream",
     "text": [
      " 39%|██████████████████████████████                                               | 9125/23400 [20:29<31:49,  7.48it/s]"
     ]
    },
    {
     "name": "stdout",
     "output_type": "stream",
     "text": [
      ">9126,  dis_loss=1.387, gen_loss=0.694\n",
      ">Accuracy real: 83%, fake: 48%\n"
     ]
    },
    {
     "name": "stderr",
     "output_type": "stream",
     "text": [
      " 40%|██████████████████████████████▊                                              | 9359/23400 [21:01<29:45,  7.87it/s]"
     ]
    },
    {
     "name": "stdout",
     "output_type": "stream",
     "text": [
      ">9360,  dis_loss=1.401, gen_loss=0.703\n",
      ">Accuracy real: 66%, fake: 61%\n"
     ]
    },
    {
     "name": "stderr",
     "output_type": "stream",
     "text": [
      " 41%|███████████████████████████████▌                                             | 9593/23400 [21:32<29:29,  7.80it/s]"
     ]
    },
    {
     "name": "stdout",
     "output_type": "stream",
     "text": [
      ">9594,  dis_loss=1.396, gen_loss=0.727\n",
      ">Accuracy real: 8%, fake: 84%\n"
     ]
    },
    {
     "name": "stderr",
     "output_type": "stream",
     "text": [
      " 42%|████████████████████████████████▎                                            | 9827/23400 [22:04<28:11,  8.02it/s]"
     ]
    },
    {
     "name": "stdout",
     "output_type": "stream",
     "text": [
      ">9828,  dis_loss=1.376, gen_loss=0.719\n",
      ">Accuracy real: 63%, fake: 48%\n"
     ]
    },
    {
     "name": "stderr",
     "output_type": "stream",
     "text": [
      " 43%|████████████████████████████████▋                                           | 10061/23400 [22:36<28:04,  7.92it/s]"
     ]
    },
    {
     "name": "stdout",
     "output_type": "stream",
     "text": [
      ">10062,  dis_loss=1.404, gen_loss=0.741\n",
      ">Accuracy real: 35%, fake: 79%\n"
     ]
    },
    {
     "name": "stderr",
     "output_type": "stream",
     "text": [
      " 44%|█████████████████████████████████▍                                          | 10295/23400 [23:08<27:51,  7.84it/s]"
     ]
    },
    {
     "name": "stdout",
     "output_type": "stream",
     "text": [
      ">10296,  dis_loss=1.409, gen_loss=0.704\n",
      ">Accuracy real: 42%, fake: 59%\n"
     ]
    },
    {
     "name": "stderr",
     "output_type": "stream",
     "text": [
      " 45%|██████████████████████████████████▏                                         | 10529/23400 [23:39<27:42,  7.74it/s]"
     ]
    },
    {
     "name": "stdout",
     "output_type": "stream",
     "text": [
      ">10530,  dis_loss=1.398, gen_loss=0.679\n",
      ">Accuracy real: 68%, fake: 23%\n"
     ]
    },
    {
     "name": "stderr",
     "output_type": "stream",
     "text": [
      " 46%|██████████████████████████████████▉                                         | 10763/23400 [24:13<26:03,  8.08it/s]"
     ]
    },
    {
     "name": "stdout",
     "output_type": "stream",
     "text": [
      ">10764,  dis_loss=1.415, gen_loss=0.718\n",
      ">Accuracy real: 30%, fake: 83%\n"
     ]
    },
    {
     "name": "stderr",
     "output_type": "stream",
     "text": [
      " 47%|███████████████████████████████████▋                                        | 10997/23400 [24:45<26:43,  7.74it/s]"
     ]
    },
    {
     "name": "stdout",
     "output_type": "stream",
     "text": [
      ">10998,  dis_loss=1.408, gen_loss=0.706\n",
      ">Accuracy real: 62%, fake: 45%\n"
     ]
    },
    {
     "name": "stderr",
     "output_type": "stream",
     "text": [
      " 48%|████████████████████████████████████▍                                       | 11231/23400 [25:17<26:05,  7.77it/s]"
     ]
    },
    {
     "name": "stdout",
     "output_type": "stream",
     "text": [
      ">11232,  dis_loss=1.396, gen_loss=0.706\n",
      ">Accuracy real: 67%, fake: 52%\n"
     ]
    },
    {
     "name": "stderr",
     "output_type": "stream",
     "text": [
      " 49%|█████████████████████████████████████▏                                      | 11465/23400 [25:48<25:08,  7.91it/s]"
     ]
    },
    {
     "name": "stdout",
     "output_type": "stream",
     "text": [
      ">11466,  dis_loss=1.409, gen_loss=0.687\n",
      ">Accuracy real: 62%, fake: 47%\n"
     ]
    },
    {
     "name": "stderr",
     "output_type": "stream",
     "text": [
      " 50%|█████████████████████████████████████▉                                      | 11699/23400 [26:20<24:43,  7.89it/s]"
     ]
    },
    {
     "name": "stdout",
     "output_type": "stream",
     "text": [
      ">11700,  dis_loss=1.402, gen_loss=0.705\n",
      ">Accuracy real: 64%, fake: 51%\n"
     ]
    },
    {
     "name": "stderr",
     "output_type": "stream",
     "text": [
      " 51%|██████████████████████████████████████▊                                     | 11933/23400 [26:51<24:29,  7.81it/s]"
     ]
    },
    {
     "name": "stdout",
     "output_type": "stream",
     "text": [
      ">11934,  dis_loss=1.416, gen_loss=0.675\n",
      ">Accuracy real: 72%, fake: 14%\n"
     ]
    },
    {
     "name": "stderr",
     "output_type": "stream",
     "text": [
      " 52%|███████████████████████████████████████▌                                    | 12167/23400 [27:23<24:09,  7.75it/s]"
     ]
    },
    {
     "name": "stdout",
     "output_type": "stream",
     "text": [
      ">12168,  dis_loss=1.383, gen_loss=0.709\n",
      ">Accuracy real: 56%, fake: 67%\n"
     ]
    },
    {
     "name": "stderr",
     "output_type": "stream",
     "text": [
      " 53%|████████████████████████████████████████▎                                   | 12401/23400 [27:55<23:44,  7.72it/s]"
     ]
    },
    {
     "name": "stdout",
     "output_type": "stream",
     "text": [
      ">12402,  dis_loss=1.373, gen_loss=0.719\n",
      ">Accuracy real: 57%, fake: 65%\n"
     ]
    },
    {
     "name": "stderr",
     "output_type": "stream",
     "text": [
      " 54%|█████████████████████████████████████████                                   | 12635/23400 [28:27<23:36,  7.60it/s]"
     ]
    },
    {
     "name": "stdout",
     "output_type": "stream",
     "text": [
      ">12636,  dis_loss=1.409, gen_loss=0.668\n",
      ">Accuracy real: 86%, fake: 10%\n"
     ]
    },
    {
     "name": "stderr",
     "output_type": "stream",
     "text": [
      " 55%|█████████████████████████████████████████▊                                  | 12869/23400 [28:59<23:53,  7.35it/s]"
     ]
    },
    {
     "name": "stdout",
     "output_type": "stream",
     "text": [
      ">12870,  dis_loss=1.402, gen_loss=0.723\n",
      ">Accuracy real: 45%, fake: 81%\n"
     ]
    },
    {
     "name": "stderr",
     "output_type": "stream",
     "text": [
      " 56%|██████████████████████████████████████████▌                                 | 13103/23400 [29:37<24:25,  7.03it/s]"
     ]
    },
    {
     "name": "stdout",
     "output_type": "stream",
     "text": [
      ">13104,  dis_loss=1.384, gen_loss=0.723\n",
      ">Accuracy real: 29%, fake: 65%\n"
     ]
    },
    {
     "name": "stderr",
     "output_type": "stream",
     "text": [
      " 57%|███████████████████████████████████████████▎                                | 13337/23400 [30:12<22:01,  7.61it/s]"
     ]
    },
    {
     "name": "stdout",
     "output_type": "stream",
     "text": [
      ">13338,  dis_loss=1.403, gen_loss=0.721\n",
      ">Accuracy real: 23%, fake: 78%\n"
     ]
    },
    {
     "name": "stderr",
     "output_type": "stream",
     "text": [
      " 58%|████████████████████████████████████████████                                | 13571/23400 [30:45<22:42,  7.21it/s]"
     ]
    },
    {
     "name": "stdout",
     "output_type": "stream",
     "text": [
      ">13572,  dis_loss=1.401, gen_loss=0.706\n",
      ">Accuracy real: 60%, fake: 41%\n"
     ]
    },
    {
     "name": "stderr",
     "output_type": "stream",
     "text": [
      " 59%|████████████████████████████████████████████▊                               | 13805/23400 [31:19<20:26,  7.83it/s]"
     ]
    },
    {
     "name": "stdout",
     "output_type": "stream",
     "text": [
      ">13806,  dis_loss=1.404, gen_loss=0.697\n",
      ">Accuracy real: 61%, fake: 30%\n"
     ]
    },
    {
     "name": "stderr",
     "output_type": "stream",
     "text": [
      " 60%|█████████████████████████████████████████████▌                              | 14039/23400 [31:50<20:04,  7.77it/s]"
     ]
    },
    {
     "name": "stdout",
     "output_type": "stream",
     "text": [
      ">14040,  dis_loss=1.403, gen_loss=0.696\n",
      ">Accuracy real: 54%, fake: 47%\n"
     ]
    },
    {
     "name": "stderr",
     "output_type": "stream",
     "text": [
      " 61%|██████████████████████████████████████████████▎                             | 14273/23400 [32:20<21:02,  7.23it/s]"
     ]
    },
    {
     "name": "stdout",
     "output_type": "stream",
     "text": [
      ">14274,  dis_loss=1.417, gen_loss=0.711\n",
      ">Accuracy real: 40%, fake: 65%\n"
     ]
    },
    {
     "name": "stderr",
     "output_type": "stream",
     "text": [
      " 62%|███████████████████████████████████████████████                             | 14507/23400 [32:51<18:51,  7.86it/s]"
     ]
    },
    {
     "name": "stdout",
     "output_type": "stream",
     "text": [
      ">14508,  dis_loss=1.392, gen_loss=0.692\n",
      ">Accuracy real: 69%, fake: 41%\n"
     ]
    },
    {
     "name": "stderr",
     "output_type": "stream",
     "text": [
      " 63%|███████████████████████████████████████████████▉                            | 14741/23400 [33:22<19:21,  7.46it/s]"
     ]
    },
    {
     "name": "stdout",
     "output_type": "stream",
     "text": [
      ">14742,  dis_loss=1.398, gen_loss=0.700\n",
      ">Accuracy real: 62%, fake: 50%\n"
     ]
    },
    {
     "name": "stderr",
     "output_type": "stream",
     "text": [
      " 64%|████████████████████████████████████████████████▋                           | 14975/23400 [33:53<17:16,  8.13it/s]"
     ]
    },
    {
     "name": "stdout",
     "output_type": "stream",
     "text": [
      ">14976,  dis_loss=1.394, gen_loss=0.703\n",
      ">Accuracy real: 53%, fake: 53%\n"
     ]
    },
    {
     "name": "stderr",
     "output_type": "stream",
     "text": [
      " 65%|█████████████████████████████████████████████████▍                          | 15209/23400 [34:24<16:57,  8.05it/s]"
     ]
    },
    {
     "name": "stdout",
     "output_type": "stream",
     "text": [
      ">15210,  dis_loss=1.386, gen_loss=0.700\n",
      ">Accuracy real: 49%, fake: 45%\n"
     ]
    },
    {
     "name": "stderr",
     "output_type": "stream",
     "text": [
      " 66%|██████████████████████████████████████████████████▏                         | 15443/23400 [34:56<17:15,  7.68it/s]"
     ]
    },
    {
     "name": "stdout",
     "output_type": "stream",
     "text": [
      ">15444,  dis_loss=1.375, gen_loss=0.698\n",
      ">Accuracy real: 52%, fake: 50%\n"
     ]
    },
    {
     "name": "stderr",
     "output_type": "stream",
     "text": [
      " 67%|██████████████████████████████████████████████████▉                         | 15677/23400 [35:27<17:27,  7.37it/s]"
     ]
    },
    {
     "name": "stdout",
     "output_type": "stream",
     "text": [
      ">15678,  dis_loss=1.401, gen_loss=0.659\n",
      ">Accuracy real: 89%, fake: 14%\n"
     ]
    },
    {
     "name": "stderr",
     "output_type": "stream",
     "text": [
      " 68%|███████████████████████████████████████████████████▋                        | 15911/23400 [36:00<16:02,  7.78it/s]"
     ]
    },
    {
     "name": "stdout",
     "output_type": "stream",
     "text": [
      ">15912,  dis_loss=1.394, gen_loss=0.707\n",
      ">Accuracy real: 56%, fake: 60%\n"
     ]
    },
    {
     "name": "stderr",
     "output_type": "stream",
     "text": [
      " 69%|████████████████████████████████████████████████████▍                       | 16145/23400 [36:32<16:30,  7.33it/s]"
     ]
    },
    {
     "name": "stdout",
     "output_type": "stream",
     "text": [
      ">16146,  dis_loss=1.411, gen_loss=0.697\n",
      ">Accuracy real: 71%, fake: 36%\n"
     ]
    },
    {
     "name": "stderr",
     "output_type": "stream",
     "text": [
      " 70%|█████████████████████████████████████████████████████▏                      | 16379/23400 [37:07<15:12,  7.70it/s]"
     ]
    },
    {
     "name": "stdout",
     "output_type": "stream",
     "text": [
      ">16380,  dis_loss=1.396, gen_loss=0.702\n",
      ">Accuracy real: 39%, fake: 69%\n"
     ]
    },
    {
     "name": "stderr",
     "output_type": "stream",
     "text": [
      " 71%|█████████████████████████████████████████████████████▉                      | 16613/23400 [37:41<18:14,  6.20it/s]"
     ]
    },
    {
     "name": "stdout",
     "output_type": "stream",
     "text": [
      ">16614,  dis_loss=1.374, gen_loss=0.690\n",
      ">Accuracy real: 75%, fake: 37%\n"
     ]
    },
    {
     "name": "stderr",
     "output_type": "stream",
     "text": [
      " 72%|██████████████████████████████████████████████████████▋                     | 16847/23400 [38:15<14:04,  7.76it/s]"
     ]
    },
    {
     "name": "stdout",
     "output_type": "stream",
     "text": [
      ">16848,  dis_loss=1.384, gen_loss=0.685\n",
      ">Accuracy real: 72%, fake: 35%\n"
     ]
    },
    {
     "name": "stderr",
     "output_type": "stream",
     "text": [
      " 73%|███████████████████████████████████████████████████████▍                    | 17081/23400 [38:47<13:17,  7.92it/s]"
     ]
    },
    {
     "name": "stdout",
     "output_type": "stream",
     "text": [
      ">17082,  dis_loss=1.399, gen_loss=0.703\n",
      ">Accuracy real: 70%, fake: 37%\n"
     ]
    },
    {
     "name": "stderr",
     "output_type": "stream",
     "text": [
      " 74%|████████████████████████████████████████████████████████▏                   | 17315/23400 [39:18<12:39,  8.01it/s]"
     ]
    },
    {
     "name": "stdout",
     "output_type": "stream",
     "text": [
      ">17316,  dis_loss=1.399, gen_loss=0.695\n",
      ">Accuracy real: 57%, fake: 49%\n"
     ]
    },
    {
     "name": "stderr",
     "output_type": "stream",
     "text": [
      " 75%|████████████████████████████████████████████████████████▉                   | 17549/23400 [39:50<12:50,  7.59it/s]"
     ]
    },
    {
     "name": "stdout",
     "output_type": "stream",
     "text": [
      ">17550,  dis_loss=1.400, gen_loss=0.699\n",
      ">Accuracy real: 58%, fake: 60%\n"
     ]
    },
    {
     "name": "stderr",
     "output_type": "stream",
     "text": [
      " 76%|█████████████████████████████████████████████████████████▊                  | 17783/23400 [40:25<12:54,  7.26it/s]"
     ]
    },
    {
     "name": "stdout",
     "output_type": "stream",
     "text": [
      ">17784,  dis_loss=1.402, gen_loss=0.688\n",
      ">Accuracy real: 67%, fake: 48%\n"
     ]
    },
    {
     "name": "stderr",
     "output_type": "stream",
     "text": [
      " 77%|██████████████████████████████████████████████████████████▌                 | 18017/23400 [40:58<11:19,  7.92it/s]"
     ]
    },
    {
     "name": "stdout",
     "output_type": "stream",
     "text": [
      ">18018,  dis_loss=1.383, gen_loss=0.712\n",
      ">Accuracy real: 64%, fake: 79%\n"
     ]
    },
    {
     "name": "stderr",
     "output_type": "stream",
     "text": [
      " 78%|███████████████████████████████████████████████████████████▎                | 18251/23400 [41:30<12:13,  7.02it/s]"
     ]
    },
    {
     "name": "stdout",
     "output_type": "stream",
     "text": [
      ">18252,  dis_loss=1.398, gen_loss=0.690\n",
      ">Accuracy real: 73%, fake: 33%\n"
     ]
    },
    {
     "name": "stderr",
     "output_type": "stream",
     "text": [
      " 79%|████████████████████████████████████████████████████████████                | 18485/23400 [42:03<10:42,  7.65it/s]"
     ]
    },
    {
     "name": "stdout",
     "output_type": "stream",
     "text": [
      ">18486,  dis_loss=1.394, gen_loss=0.705\n",
      ">Accuracy real: 37%, fake: 65%\n"
     ]
    },
    {
     "name": "stderr",
     "output_type": "stream",
     "text": [
      " 80%|████████████████████████████████████████████████████████████▊               | 18719/23400 [42:35<10:51,  7.19it/s]"
     ]
    },
    {
     "name": "stdout",
     "output_type": "stream",
     "text": [
      ">18720,  dis_loss=1.389, gen_loss=0.715\n",
      ">Accuracy real: 38%, fake: 76%\n"
     ]
    },
    {
     "name": "stderr",
     "output_type": "stream",
     "text": [
      " 81%|█████████████████████████████████████████████████████████████▌              | 18953/23400 [43:07<09:23,  7.89it/s]"
     ]
    },
    {
     "name": "stdout",
     "output_type": "stream",
     "text": [
      ">18954,  dis_loss=1.393, gen_loss=0.710\n",
      ">Accuracy real: 40%, fake: 64%\n"
     ]
    },
    {
     "name": "stderr",
     "output_type": "stream",
     "text": [
      " 82%|██████████████████████████████████████████████████████████████▎             | 19187/23400 [43:40<09:19,  7.53it/s]"
     ]
    },
    {
     "name": "stdout",
     "output_type": "stream",
     "text": [
      ">19188,  dis_loss=1.385, gen_loss=0.699\n",
      ">Accuracy real: 61%, fake: 39%\n"
     ]
    },
    {
     "name": "stderr",
     "output_type": "stream",
     "text": [
      " 83%|███████████████████████████████████████████████████████████████             | 19421/23400 [44:13<09:39,  6.86it/s]"
     ]
    },
    {
     "name": "stdout",
     "output_type": "stream",
     "text": [
      ">19422,  dis_loss=1.388, gen_loss=0.693\n",
      ">Accuracy real: 48%, fake: 36%\n"
     ]
    },
    {
     "name": "stderr",
     "output_type": "stream",
     "text": [
      " 84%|███████████████████████████████████████████████████████████████▊            | 19655/23400 [44:46<07:51,  7.94it/s]"
     ]
    },
    {
     "name": "stdout",
     "output_type": "stream",
     "text": [
      ">19656,  dis_loss=1.394, gen_loss=0.715\n",
      ">Accuracy real: 47%, fake: 77%\n"
     ]
    },
    {
     "name": "stderr",
     "output_type": "stream",
     "text": [
      " 85%|████████████████████████████████████████████████████████████████▌           | 19889/23400 [45:19<07:31,  7.78it/s]"
     ]
    },
    {
     "name": "stdout",
     "output_type": "stream",
     "text": [
      ">19890,  dis_loss=1.386, gen_loss=0.691\n",
      ">Accuracy real: 69%, fake: 37%\n"
     ]
    },
    {
     "name": "stderr",
     "output_type": "stream",
     "text": [
      " 86%|█████████████████████████████████████████████████████████████████▎          | 20123/23400 [45:58<07:36,  7.18it/s]"
     ]
    },
    {
     "name": "stdout",
     "output_type": "stream",
     "text": [
      ">20124,  dis_loss=1.380, gen_loss=0.698\n",
      ">Accuracy real: 66%, fake: 46%\n"
     ]
    },
    {
     "name": "stderr",
     "output_type": "stream",
     "text": [
      " 87%|██████████████████████████████████████████████████████████████████          | 20357/23400 [46:31<07:29,  6.77it/s]"
     ]
    },
    {
     "name": "stdout",
     "output_type": "stream",
     "text": [
      ">20358,  dis_loss=1.401, gen_loss=0.700\n",
      ">Accuracy real: 48%, fake: 62%\n"
     ]
    },
    {
     "name": "stderr",
     "output_type": "stream",
     "text": [
      " 88%|██████████████████████████████████████████████████████████████████▉         | 20591/23400 [47:04<05:51,  7.99it/s]"
     ]
    },
    {
     "name": "stdout",
     "output_type": "stream",
     "text": [
      ">20592,  dis_loss=1.377, gen_loss=0.670\n",
      ">Accuracy real: 85%, fake: 14%\n"
     ]
    },
    {
     "name": "stderr",
     "output_type": "stream",
     "text": [
      " 89%|███████████████████████████████████████████████████████████████████▋        | 20825/23400 [47:37<06:20,  6.77it/s]"
     ]
    },
    {
     "name": "stdout",
     "output_type": "stream",
     "text": [
      ">20826,  dis_loss=1.395, gen_loss=0.696\n",
      ">Accuracy real: 53%, fake: 50%\n"
     ]
    },
    {
     "name": "stderr",
     "output_type": "stream",
     "text": [
      " 90%|████████████████████████████████████████████████████████████████████▍       | 21059/23400 [48:11<05:11,  7.50it/s]"
     ]
    },
    {
     "name": "stdout",
     "output_type": "stream",
     "text": [
      ">21060,  dis_loss=1.395, gen_loss=0.706\n",
      ">Accuracy real: 47%, fake: 44%\n"
     ]
    },
    {
     "name": "stderr",
     "output_type": "stream",
     "text": [
      " 91%|█████████████████████████████████████████████████████████████████████▏      | 21293/23400 [48:43<04:28,  7.84it/s]"
     ]
    },
    {
     "name": "stdout",
     "output_type": "stream",
     "text": [
      ">21294,  dis_loss=1.405, gen_loss=0.687\n",
      ">Accuracy real: 72%, fake: 36%\n"
     ]
    },
    {
     "name": "stderr",
     "output_type": "stream",
     "text": [
      " 92%|█████████████████████████████████████████████████████████████████████▉      | 21527/23400 [49:17<04:11,  7.44it/s]"
     ]
    },
    {
     "name": "stdout",
     "output_type": "stream",
     "text": [
      ">21528,  dis_loss=1.386, gen_loss=0.696\n",
      ">Accuracy real: 71%, fake: 37%\n"
     ]
    },
    {
     "name": "stderr",
     "output_type": "stream",
     "text": [
      " 93%|██████████████████████████████████████████████████████████████████████▋     | 21761/23400 [49:49<03:43,  7.33it/s]"
     ]
    },
    {
     "name": "stdout",
     "output_type": "stream",
     "text": [
      ">21762,  dis_loss=1.384, gen_loss=0.685\n",
      ">Accuracy real: 83%, fake: 22%\n"
     ]
    },
    {
     "name": "stderr",
     "output_type": "stream",
     "text": [
      " 94%|███████████████████████████████████████████████████████████████████████▍    | 21995/23400 [50:21<03:16,  7.14it/s]"
     ]
    },
    {
     "name": "stdout",
     "output_type": "stream",
     "text": [
      ">21996,  dis_loss=1.359, gen_loss=0.698\n",
      ">Accuracy real: 82%, fake: 48%\n"
     ]
    },
    {
     "name": "stderr",
     "output_type": "stream",
     "text": [
      " 95%|████████████████████████████████████████████████████████████████████████▏   | 22229/23400 [50:54<02:36,  7.50it/s]"
     ]
    },
    {
     "name": "stdout",
     "output_type": "stream",
     "text": [
      ">22230,  dis_loss=1.398, gen_loss=0.720\n",
      ">Accuracy real: 29%, fake: 71%\n"
     ]
    },
    {
     "name": "stderr",
     "output_type": "stream",
     "text": [
      " 96%|████████████████████████████████████████████████████████████████████████▉   | 22463/23400 [51:25<01:56,  8.06it/s]"
     ]
    },
    {
     "name": "stdout",
     "output_type": "stream",
     "text": [
      ">22464,  dis_loss=1.411, gen_loss=0.693\n",
      ">Accuracy real: 77%, fake: 23%\n"
     ]
    },
    {
     "name": "stderr",
     "output_type": "stream",
     "text": [
      " 97%|█████████████████████████████████████████████████████████████████████████▋  | 22697/23400 [51:58<01:29,  7.82it/s]"
     ]
    },
    {
     "name": "stdout",
     "output_type": "stream",
     "text": [
      ">22698,  dis_loss=1.396, gen_loss=0.705\n",
      ">Accuracy real: 36%, fake: 67%\n"
     ]
    },
    {
     "name": "stderr",
     "output_type": "stream",
     "text": [
      " 98%|██████████████████████████████████████████████████████████████████████████▍ | 22931/23400 [52:30<01:00,  7.73it/s]"
     ]
    },
    {
     "name": "stdout",
     "output_type": "stream",
     "text": [
      ">22932,  dis_loss=1.390, gen_loss=0.703\n",
      ">Accuracy real: 38%, fake: 61%\n"
     ]
    },
    {
     "name": "stderr",
     "output_type": "stream",
     "text": [
      " 99%|███████████████████████████████████████████████████████████████████████████▏| 23165/23400 [53:03<00:30,  7.75it/s]"
     ]
    },
    {
     "name": "stdout",
     "output_type": "stream",
     "text": [
      ">23166,  dis_loss=1.397, gen_loss=0.693\n",
      ">Accuracy real: 58%, fake: 44%\n"
     ]
    },
    {
     "name": "stderr",
     "output_type": "stream",
     "text": [
      "100%|███████████████████████████████████████████████████████████████████████████▉| 23399/23400 [53:35<00:00,  7.78it/s]"
     ]
    },
    {
     "name": "stdout",
     "output_type": "stream",
     "text": [
      ">23400,  dis_loss=1.388, gen_loss=0.695\n",
      ">Accuracy real: 58%, fake: 44%\n"
     ]
    },
    {
     "name": "stderr",
     "output_type": "stream",
     "text": [
      "100%|████████████████████████████████████████████████████████████████████████████| 23400/23400 [53:37<00:00,  7.27it/s]\n"
     ]
    }
   ],
   "source": [
    "generator_optimizer = Adam(learning_rate=0.0002, beta_1=0.5, beta_2=0.9)\n",
    "discriminator_optimizer = Adam(learning_rate=0.0002, beta_1=0.5, beta_2=0.9)\n",
    "\n",
    "d_model = DiscriminatorModel()\n",
    "d_model.compile(loss='binary_crossentropy', optimizer=discriminator_optimizer, metrics=['accuracy'])\n",
    "\n",
    "g_model = GeneratorModel(input_shape = NOISE_DIM)\n",
    "\n",
    "# create the gan\n",
    "gan_model = DefineGan(g_model, d_model)\n",
    "gan_model.compile(loss='binary_crossentropy', optimizer=generator_optimizer, metrics=['accuracy'])\n",
    "\n",
    "# load image data\n",
    "dataset = load_real_samples()\n",
    "\n",
    "# train model\n",
    "train(g_model, d_model, gan_model, dataset, NOISE_DIM)"
   ]
  }
 ],
 "metadata": {
  "kernelspec": {
   "display_name": "Python 3",
   "language": "python",
   "name": "python3"
  },
  "language_info": {
   "codemirror_mode": {
    "name": "ipython",
    "version": 3
   },
   "file_extension": ".py",
   "mimetype": "text/x-python",
   "name": "python",
   "nbconvert_exporter": "python",
   "pygments_lexer": "ipython3",
   "version": "3.7.9"
  }
 },
 "nbformat": 4,
 "nbformat_minor": 4
}
